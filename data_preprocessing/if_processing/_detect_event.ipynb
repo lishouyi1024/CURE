{
 "cells": [
  {
   "cell_type": "code",
   "execution_count": 1,
   "id": "3c444078-aad7-47ae-8cbb-addc3ef2518a",
   "metadata": {},
   "outputs": [],
   "source": [
    "import sys\n",
    "import cv2\n",
    "import argparse\n",
    "import numpy as np\n",
    "import multiprocessing as mp\n",
    "from skimage import (\n",
    "    feature, filters, measure, morphology, segmentation\n",
    ")\n",
    "import modules.utils as utils\n",
    "from functools import partial\n",
    "from modules.Frame import Frame"
   ]
  },
  {
   "cell_type": "markdown",
   "id": "41dadab6-5f4e-49fc-b50b-0c2cd1d18364",
   "metadata": {
    "tags": []
   },
   "source": [
    "## Functions"
   ]
  },
  {
   "cell_type": "code",
   "execution_count": 2,
   "id": "62a4af10-db2b-40a0-8f17-f07c59078fd1",
   "metadata": {
    "tags": []
   },
   "outputs": [],
   "source": [
    "def generate_tile_paths(path, frame_id, starts, name_format):\n",
    "    paths = [f\"{path}/{name_format}\" % (frame_id + j - 1) for j in starts]\n",
    "    return paths"
   ]
  },
  {
   "cell_type": "markdown",
   "id": "18651d85-7ce9-4447-b6d1-91625b6fc45f",
   "metadata": {
    "tags": []
   },
   "source": [
    "## Parameters"
   ]
  },
  {
   "cell_type": "code",
   "execution_count": 3,
   "id": "48f331b0-ab45-4575-be83-a92d750d99ca",
   "metadata": {},
   "outputs": [],
   "source": [
    "in_path = '../../P14_MultipleMyeloma/data/0ABBC03/image'\n",
    "out_path = '../../P14_MultipleMyeloma/data/0ABBC03'\n",
    "n_frames = 10\n",
    "channels = ['DAPI', 'TRITC', 'Cy5', 'FITC']\n",
    "starts = [1, 2305, 4609, 9217]\n",
    "offset = 79\n",
    "name_format = 'Tile%06d.tif'\n",
    "n_threads = 4\n",
    "\n",
    "# Segmentation Parameters\n",
    "params = {\n",
    "    'tophat_size': 45,\n",
    "    'opening_size': 5,\n",
    "    'blur_size': 5,\n",
    "    'blur_sigma': 2,\n",
    "    'thresh_size': 25,\n",
    "    'thresh_offset': [-2000] * 4,\n",
    "    'min_dist': 7,\n",
    "    'size_min_thresh': 10,\n",
    "    'seed_ch': 'DAPI',\n",
    "    'save_mask':True\n",
    "}"
   ]
  },
  {
   "cell_type": "markdown",
   "id": "75bbb69b-910a-44bc-b3af-817bc8e9d0f4",
   "metadata": {
    "tags": []
   },
   "source": [
    "## Segment Events"
   ]
  },
  {
   "cell_type": "code",
   "execution_count": 10,
   "id": "407ad732-f8fa-4b8c-a650-435b8d7a7f11",
   "metadata": {
    "tags": []
   },
   "outputs": [],
   "source": [
    "def segment_frame(frame, params):\n",
    "    \"segment frame to identify all events\"\n",
    "    \n",
    "    # Preparing input\n",
    "    image_copy = frame.image.copy()\n",
    "    image_copy = image_copy.astype('float32')\n",
    "    \n",
    "    # Preparing segmentation parameters\n",
    "    tophat_kernel = cv2.getStructuringElement(\n",
    "        cv2.MORPH_ELLIPSE, (params['tophat_size'], params['tophat_size']))\n",
    "    opening_kernel = cv2.getStructuringElement(\n",
    "        cv2.MORPH_ELLIPSE, (params['opening_size'], params['opening_size']))\n",
    "    \n",
    "    # Preprocessing and segmenting channels separately\n",
    "    target_mask = np.zeros(image_copy.shape[:2], dtype=image_copy.dtype)\n",
    "    for ch in frame.channels:\n",
    "        i = frame.get_ch(ch)\n",
    "\n",
    "        image_copy[..., i] = cv2.morphologyEx(\n",
    "            image_copy[..., i],\n",
    "            cv2.MORPH_TOPHAT,\n",
    "            tophat_kernel\n",
    "        )\n",
    "        image_copy[..., i] = cv2.GaussianBlur(\n",
    "            image_copy[..., i],\n",
    "            (params['blur_size'], params['blur_size']),\n",
    "            params['blur_sigma']\n",
    "        )\n",
    "        \n",
    "        thresh_image = filters.threshold_local(\n",
    "            image=image_copy[..., i],\n",
    "            method='mean',\n",
    "            block_size=params['thresh_size'],\n",
    "            offset=params['thresh_offset'][i]\n",
    "        )\n",
    "        image_copy[..., i] = image_copy[..., i] > thresh_image\n",
    "        image_copy[..., i] = utils.fill_holes(\n",
    "            image_copy[..., i].astype('uint8'))\n",
    "        target_mask = cv2.bitwise_or(target_mask, image_copy[..., i])\n",
    "    \n",
    "    # Postprocessing the masks\n",
    "    target_mask = cv2.morphologyEx(target_mask, cv2.MORPH_OPEN, opening_kernel)\n",
    "    target_dist = cv2.distanceTransform(\n",
    "        target_mask.astype('uint8'), cv2.DIST_L2,3, cv2.CV_32F)\n",
    "    \n",
    "    # Generating the seeds\n",
    "    seed_mask = cv2.morphologyEx(\n",
    "        image_copy[..., frame.get_ch(params['seed_ch'])],\n",
    "        cv2.MORPH_OPEN, opening_kernel\n",
    "    )\n",
    "    seed_dist = cv2.distanceTransform(\n",
    "        seed_mask.astype('uint8'), cv2.DIST_L2, 3, cv2.CV_32F)\n",
    "    local_max_coords = feature.peak_local_max(\n",
    "        seed_dist, min_distance=params['min_dist'], exclude_border=False)\n",
    "    seeds = np.zeros(seed_mask.shape, dtype=bool)\n",
    "    seeds[tuple(local_max_coords.T)] = True\n",
    "    seeds = measure.label(seeds)\n",
    "\n",
    "    # Watershed segmentation\n",
    "    event_mask = segmentation.watershed(-target_dist, seeds, mask=target_mask)\n",
    "    frame.mask = event_mask\n",
    "    features = utils.calc_basic_features(frame)\n",
    "    return(features)"
   ]
  },
  {
   "cell_type": "code",
   "execution_count": 11,
   "id": "4c3368bb-95d0-4c3c-a7bf-ef0d95f87ef5",
   "metadata": {
    "tags": []
   },
   "outputs": [],
   "source": [
    "# Loading data\n",
    "frames = []\n",
    "for i in range(n_frames):\n",
    "    frame_id = i + offset + 1\n",
    "    paths = generate_tile_paths(\n",
    "        path=in_path, frame_id=frame_id, starts=starts,\n",
    "        name_format=name_format)\n",
    "    frame = Frame(frame_id=frame_id, channels=channels)\n",
    "    if frame.is_edge():\n",
    "        continue\n",
    "    frame.readImage(paths=paths)\n",
    "    frames.append(frame)"
   ]
  },
  {
   "cell_type": "code",
   "execution_count": 6,
   "id": "d92cacfa-727c-4d3e-984a-c704f76e49b1",
   "metadata": {
    "jupyter": {
     "source_hidden": true
    },
    "tags": []
   },
   "outputs": [],
   "source": [
    "# Regular processing\n",
    "#utils.pltImageShow2by2(frames[0].image, title='Raw Images', size=(14,10))\n",
    "result = segment_frame(frame=frames[0], params=params)"
   ]
  },
  {
   "cell_type": "code",
   "execution_count": 12,
   "id": "8fd37ee0-6f13-4671-be2e-9a234aca5016",
   "metadata": {
    "tags": []
   },
   "outputs": [
    {
     "name": "stdout",
     "output_type": "stream",
     "text": [
      "10\n"
     ]
    }
   ],
   "source": [
    "# Parallel processing\n",
    "n_proc = n_threads if n_threads > 0 else mp.cpu_count()\n",
    "pool = mp.Pool(n_proc)\n",
    "result = pool.map(partial(segment_frame, params=params), frames)\n",
    "print(len(result))"
   ]
  },
  {
   "cell_type": "code",
   "execution_count": 18,
   "id": "c5eb6b02-ba7a-4a0d-be3c-1702fbd2c2f2",
   "metadata": {},
   "outputs": [],
   "source": [
    "import pandas as pd"
   ]
  },
  {
   "cell_type": "code",
   "execution_count": 19,
   "id": "11153df5-e851-4244-894e-e8437e596d57",
   "metadata": {},
   "outputs": [
    {
     "name": "stdout",
     "output_type": "stream",
     "text": [
      "1608\n",
      "1661\n",
      "1760\n",
      "1749\n",
      "1797\n",
      "1750\n",
      "1722\n",
      "1685\n",
      "1620\n",
      "1585\n",
      "16937\n"
     ]
    }
   ],
   "source": [
    "for item in result:\n",
    "    print(len(item))\n",
    "\n",
    "print(len(pd.concat(result)))"
   ]
  }
 ],
 "metadata": {
  "kernelspec": {
   "display_name": "Python 3",
   "language": "python",
   "name": "python3"
  },
  "language_info": {
   "codemirror_mode": {
    "name": "ipython",
    "version": 3
   },
   "file_extension": ".py",
   "mimetype": "text/x-python",
   "name": "python",
   "nbconvert_exporter": "python",
   "pygments_lexer": "ipython3",
   "version": "3.9.7"
  }
 },
 "nbformat": 4,
 "nbformat_minor": 5
}
